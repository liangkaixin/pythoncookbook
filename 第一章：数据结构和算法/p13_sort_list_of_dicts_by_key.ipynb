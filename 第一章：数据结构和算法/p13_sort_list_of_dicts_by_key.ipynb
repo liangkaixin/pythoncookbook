{
 "cells": [
  {
   "cell_type": "markdown",
   "metadata": {},
   "source": [
    "## 1.13 通过某个关键字排序一个字典列表\n"
   ]
  },
  {
   "cell_type": "markdown",
   "metadata": {},
   "source": [
    "### 问题\n"
   ]
  },
  {
   "cell_type": "markdown",
   "metadata": {},
   "source": [
    "你有一个字典列表，你想根据某个或某几个字典字段来排序这个列表。"
   ]
  },
  {
   "cell_type": "markdown",
   "metadata": {},
   "source": [
    "### 解决方案\n"
   ]
  },
  {
   "cell_type": "markdown",
   "metadata": {},
   "source": [
    "通过使用 operator 模块的 itemgetter 函数，可以非常容易的排序这样的数据结构。\n",
    "假设你从数据库中检索出来网站会员信息列表，并且以下列的数据结构返回："
   ]
  },
  {
   "cell_type": "code",
   "execution_count": 1,
   "metadata": {
    "execution": {
     "iopub.execute_input": "2024-11-29T06:20:01.746373Z",
     "iopub.status.busy": "2024-11-29T06:20:01.745094Z",
     "iopub.status.idle": "2024-11-29T06:20:01.758456Z",
     "shell.execute_reply": "2024-11-29T06:20:01.757662Z",
     "shell.execute_reply.started": "2024-11-29T06:20:01.746307Z"
    }
   },
   "outputs": [],
   "source": [
    "rows = [\n",
    "    {'fname': 'Brian', 'lname': 'Jones', 'uid': 1003},\n",
    "    {'fname': 'David', 'lname': 'Beazley', 'uid': 1002},\n",
    "    {'fname': 'John', 'lname': 'Cleese', 'uid': 1001},\n",
    "    {'fname': 'Big', 'lname': 'Jones', 'uid': 1004}\n",
    "]"
   ]
  },
  {
   "cell_type": "markdown",
   "metadata": {},
   "source": [
    "根据任意的字典字段来排序输入结果行是很容易实现的，代码示例："
   ]
  },
  {
   "cell_type": "code",
   "execution_count": null,
   "metadata": {},
   "outputs": [],
   "source": [
    "from operator import itemgetter\n",
    "rows_by_fname = sorted(rows, key=itemgetter('fname'))\n",
    "rows_by_uid = sorted(rows, key=itemgetter('uid'))\n",
    "print(rows_by_fname)\n",
    "print(rows_by_uid)"
   ]
  },
  {
   "cell_type": "markdown",
   "metadata": {},
   "source": [
    "代码的输出如下："
   ]
  },
  {
   "cell_type": "code",
   "execution_count": null,
   "metadata": {},
   "outputs": [],
   "source": [
    "[{'fname': 'Big', 'uid': 1004, 'lname': 'Jones'},\n",
    "{'fname': 'Brian', 'uid': 1003, 'lname': 'Jones'},\n",
    "{'fname': 'David', 'uid': 1002, 'lname': 'Beazley'},\n",
    "{'fname': 'John', 'uid': 1001, 'lname': 'Cleese'}]\n",
    "[{'fname': 'John', 'uid': 1001, 'lname': 'Cleese'},\n",
    "{'fname': 'David', 'uid': 1002, 'lname': 'Beazley'},\n",
    "{'fname': 'Brian', 'uid': 1003, 'lname': 'Jones'},\n",
    "{'fname': 'Big', 'uid': 1004, 'lname': 'Jones'}]"
   ]
  },
  {
   "cell_type": "markdown",
   "metadata": {},
   "source": [
    "itemgetter() 函数也支持多个 keys，比如下面的代码"
   ]
  },
  {
   "cell_type": "code",
   "execution_count": null,
   "metadata": {},
   "outputs": [],
   "source": [
    "rows_by_lfname = sorted(rows, key=itemgetter('lname','fname'))\n",
    "print(rows_by_lfname)"
   ]
  },
  {
   "cell_type": "markdown",
   "metadata": {},
   "source": [
    "会产生如下的输出："
   ]
  },
  {
   "cell_type": "code",
   "execution_count": null,
   "metadata": {},
   "outputs": [],
   "source": [
    "[{'fname': 'David', 'uid': 1002, 'lname': 'Beazley'},\n",
    "{'fname': 'John', 'uid': 1001, 'lname': 'Cleese'},\n",
    "{'fname': 'Big', 'uid': 1004, 'lname': 'Jones'},\n",
    "{'fname': 'Brian', 'uid': 1003, 'lname': 'Jones'}]"
   ]
  },
  {
   "cell_type": "markdown",
   "metadata": {},
   "source": [
    "### 讨论\n"
   ]
  },
  {
   "cell_type": "markdown",
   "metadata": {},
   "source": [
    "在上面例子中， rows 被传递给接受一个关键字参数的 sorted() 内置函数。\n",
    "这个参数是 callable 类型，并且从 rows 中接受一个单一元素，然后返回被用来排序的值。\n",
    "itemgetter() 函数就是负责创建这个 callable 对象的。"
   ]
  },
  {
   "cell_type": "markdown",
   "metadata": {},
   "source": [
    "operator.itemgetter() 函数有一个被 rows 中的记录用来查找值的索引参数。可以是一个字典键名称，\n",
    "一个整形值或者任何能够传入一个对象的 __getitem__() 方法的值。\n",
    "如果你传入多个索引参数给 itemgetter() ，它生成的 callable 对象会返回一个包含所有元素值的元组，\n",
    "并且 sorted() 函数会根据这个元组中元素顺序去排序。\n",
    "但你想要同时在几个字段上面进行排序（比如通过姓和名来排序，也就是例子中的那样）的时候这种方法是很有用的。"
   ]
  },
  {
   "cell_type": "markdown",
   "metadata": {},
   "source": [
    "itemgetter() 有时候也可以用 lambda 表达式代替，比如："
   ]
  },
  {
   "cell_type": "code",
   "execution_count": 2,
   "metadata": {
    "execution": {
     "iopub.execute_input": "2024-11-29T06:21:21.627556Z",
     "iopub.status.busy": "2024-11-29T06:21:21.627087Z",
     "iopub.status.idle": "2024-11-29T06:21:21.631537Z",
     "shell.execute_reply": "2024-11-29T06:21:21.630891Z",
     "shell.execute_reply.started": "2024-11-29T06:21:21.627524Z"
    }
   },
   "outputs": [],
   "source": [
    "rows_by_fname = sorted(rows, key=lambda r: r['fname'])\n",
    "rows_by_lfname = sorted(rows, key=lambda r: (r['lname'],r['fname']))"
   ]
  },
  {
   "cell_type": "markdown",
   "metadata": {},
   "source": [
    "这种方案也不错。但是，使用 itemgetter() 方式会运行的稍微快点。因此，如果你对性能要求比较高的话就使用 itemgetter() 方式。"
   ]
  },
  {
   "cell_type": "markdown",
   "metadata": {},
   "source": [
    "最后，不要忘了这节中展示的技术也同样适用于 min() 和 max() 等函数。比如："
   ]
  },
  {
   "cell_type": "code",
   "execution_count": null,
   "metadata": {},
   "outputs": [],
   "source": [
    "min(rows, key=itemgetter('uid'))"
   ]
  },
  {
   "cell_type": "code",
   "execution_count": null,
   "metadata": {},
   "outputs": [],
   "source": [
    "max(rows, key=itemgetter('uid'))"
   ]
  }
 ],
 "metadata": {
  "kernelspec": {
   "display_name": "Python 3 (ipykernel)",
   "language": "python",
   "name": "python3"
  },
  "language_info": {
   "codemirror_mode": {
    "name": "ipython",
    "version": 3
   },
   "file_extension": ".py",
   "mimetype": "text/x-python",
   "name": "python",
   "nbconvert_exporter": "python",
   "pygments_lexer": "ipython3",
   "version": "3.10.15"
  },
  "toc": {
   "base_numbering": 1,
   "nav_menu": {},
   "number_sections": true,
   "sideBar": true,
   "skip_h1_title": true,
   "title_cell": "Table of Contents",
   "title_sidebar": "Contents",
   "toc_cell": false,
   "toc_position": {},
   "toc_section_display": true,
   "toc_window_display": true
  },
  "widgets": {
   "application/vnd.jupyter.widget-state+json": {
    "state": {},
    "version_major": 2,
    "version_minor": 0
   }
  }
 },
 "nbformat": 4,
 "nbformat_minor": 4
}
