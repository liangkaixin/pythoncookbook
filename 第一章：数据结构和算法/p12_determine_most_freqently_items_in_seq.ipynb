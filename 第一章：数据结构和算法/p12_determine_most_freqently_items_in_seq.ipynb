{
 "cells": [
  {
   "cell_type": "markdown",
   "metadata": {},
   "source": [
    "## 1.12 序列中出现次数最多的元素\n"
   ]
  },
  {
   "cell_type": "markdown",
   "metadata": {},
   "source": [
    "### 问题\n"
   ]
  },
  {
   "cell_type": "markdown",
   "metadata": {},
   "source": [
    "怎样找出一个序列中出现次数最多的元素呢？"
   ]
  },
  {
   "cell_type": "markdown",
   "metadata": {},
   "source": [
    "### 解决方案\n"
   ]
  },
  {
   "cell_type": "markdown",
   "metadata": {},
   "source": [
    "collections.Counter 类就是专门为这类问题而设计的，\n",
    "它甚至有一个有用的 most_common() 方法直接给了你答案。"
   ]
  },
  {
   "cell_type": "markdown",
   "metadata": {},
   "source": [
    "为了演示，先假设你有一个单词列表并且想找出哪个单词出现频率最高。你可以这样做："
   ]
  },
  {
   "cell_type": "code",
   "execution_count": 1,
   "metadata": {
    "execution": {
     "iopub.execute_input": "2024-11-29T05:47:03.002983Z",
     "iopub.status.busy": "2024-11-29T05:47:03.002098Z",
     "iopub.status.idle": "2024-11-29T05:47:03.012513Z",
     "shell.execute_reply": "2024-11-29T05:47:03.011620Z",
     "shell.execute_reply.started": "2024-11-29T05:47:03.002939Z"
    }
   },
   "outputs": [
    {
     "name": "stdout",
     "output_type": "stream",
     "text": [
      "[('eyes', 8), ('the', 5), ('look', 4)]\n"
     ]
    }
   ],
   "source": [
    "words = [\n",
    "    'look', 'into', 'my', 'eyes', 'look', 'into', 'my', 'eyes',\n",
    "    'the', 'eyes', 'the', 'eyes', 'the', 'eyes', 'not', 'around', 'the',\n",
    "    'eyes', \"don't\", 'look', 'around', 'the', 'eyes', 'look', 'into',\n",
    "    'my', 'eyes', \"you're\", 'under'\n",
    "]\n",
    "from collections import Counter\n",
    "word_counts = Counter(words)\n",
    "# 出现频率最高的3个单词\n",
    "top_three = word_counts.most_common(3)\n",
    "print(top_three)\n",
    "# Outputs [('eyes', 8), ('the', 5), ('look', 4)]"
   ]
  },
  {
   "cell_type": "markdown",
   "metadata": {},
   "source": [
    "### 讨论\n"
   ]
  },
  {
   "cell_type": "markdown",
   "metadata": {},
   "source": [
    "作为输入， Counter 对象可以接受任意的由可哈希（hashable）元素构成的序列对象。\n",
    "在底层实现上，一个 Counter 对象就是一个字典，将元素映射到它出现的次数上。比如："
   ]
  },
  {
   "cell_type": "code",
   "execution_count": 2,
   "metadata": {
    "execution": {
     "iopub.execute_input": "2024-11-29T05:47:22.479534Z",
     "iopub.status.busy": "2024-11-29T05:47:22.479052Z",
     "iopub.status.idle": "2024-11-29T05:47:22.487054Z",
     "shell.execute_reply": "2024-11-29T05:47:22.486298Z",
     "shell.execute_reply.started": "2024-11-29T05:47:22.479500Z"
    }
   },
   "outputs": [
    {
     "data": {
      "text/plain": [
       "1"
      ]
     },
     "execution_count": 2,
     "metadata": {},
     "output_type": "execute_result"
    }
   ],
   "source": [
    "word_counts['not']"
   ]
  },
  {
   "cell_type": "code",
   "execution_count": null,
   "metadata": {},
   "outputs": [],
   "source": [
    "word_counts['eyes']"
   ]
  },
  {
   "cell_type": "markdown",
   "metadata": {},
   "source": [
    "如果你想手动增加计数，可以简单的用加法："
   ]
  },
  {
   "cell_type": "code",
   "execution_count": 4,
   "metadata": {
    "execution": {
     "iopub.execute_input": "2024-11-29T05:47:49.907571Z",
     "iopub.status.busy": "2024-11-29T05:47:49.906832Z",
     "iopub.status.idle": "2024-11-29T05:47:49.913706Z",
     "shell.execute_reply": "2024-11-29T05:47:49.912919Z",
     "shell.execute_reply.started": "2024-11-29T05:47:49.907522Z"
    }
   },
   "outputs": [
    {
     "data": {
      "text/plain": [
       "9"
      ]
     },
     "execution_count": 4,
     "metadata": {},
     "output_type": "execute_result"
    }
   ],
   "source": [
    "morewords = ['why','are','you','not','looking','in','my','eyes']\n",
    "for word in morewords:\n",
    "    word_counts[word] += 1\n",
    "word_counts['eyes']"
   ]
  },
  {
   "cell_type": "markdown",
   "metadata": {},
   "source": [
    "或者你可以使用 update() 方法："
   ]
  },
  {
   "cell_type": "code",
   "execution_count": 5,
   "metadata": {
    "execution": {
     "iopub.execute_input": "2024-11-29T05:47:52.450342Z",
     "iopub.status.busy": "2024-11-29T05:47:52.449732Z",
     "iopub.status.idle": "2024-11-29T05:47:52.453992Z",
     "shell.execute_reply": "2024-11-29T05:47:52.453325Z",
     "shell.execute_reply.started": "2024-11-29T05:47:52.450300Z"
    }
   },
   "outputs": [],
   "source": [
    "word_counts.update(morewords)"
   ]
  },
  {
   "cell_type": "markdown",
   "metadata": {},
   "source": [
    "Counter 实例一个鲜为人知的特性是它们可以很容易的跟数学运算操作相结合。比如："
   ]
  },
  {
   "cell_type": "code",
   "execution_count": 9,
   "metadata": {
    "execution": {
     "iopub.execute_input": "2024-11-29T05:48:19.504716Z",
     "iopub.status.busy": "2024-11-29T05:48:19.504228Z",
     "iopub.status.idle": "2024-11-29T05:48:19.510038Z",
     "shell.execute_reply": "2024-11-29T05:48:19.509374Z",
     "shell.execute_reply.started": "2024-11-29T05:48:19.504676Z"
    }
   },
   "outputs": [
    {
     "data": {
      "text/plain": [
       "Counter({'eyes': 8,\n",
       "         'the': 5,\n",
       "         'look': 4,\n",
       "         'into': 3,\n",
       "         'my': 3,\n",
       "         'around': 2,\n",
       "         'not': 1,\n",
       "         \"don't\": 1,\n",
       "         \"you're\": 1,\n",
       "         'under': 1})"
      ]
     },
     "execution_count": 9,
     "metadata": {},
     "output_type": "execute_result"
    }
   ],
   "source": [
    "a = Counter(words)\n",
    "b = Counter(morewords)\n",
    "a"
   ]
  },
  {
   "cell_type": "code",
   "execution_count": 7,
   "metadata": {
    "execution": {
     "iopub.execute_input": "2024-11-29T05:48:02.428101Z",
     "iopub.status.busy": "2024-11-29T05:48:02.427579Z",
     "iopub.status.idle": "2024-11-29T05:48:02.433016Z",
     "shell.execute_reply": "2024-11-29T05:48:02.432290Z",
     "shell.execute_reply.started": "2024-11-29T05:48:02.428065Z"
    }
   },
   "outputs": [
    {
     "data": {
      "text/plain": [
       "Counter({'why': 1,\n",
       "         'are': 1,\n",
       "         'you': 1,\n",
       "         'not': 1,\n",
       "         'looking': 1,\n",
       "         'in': 1,\n",
       "         'my': 1,\n",
       "         'eyes': 1})"
      ]
     },
     "execution_count": 7,
     "metadata": {},
     "output_type": "execute_result"
    }
   ],
   "source": [
    "b"
   ]
  },
  {
   "cell_type": "code",
   "execution_count": 8,
   "metadata": {
    "execution": {
     "iopub.execute_input": "2024-11-29T05:48:11.229173Z",
     "iopub.status.busy": "2024-11-29T05:48:11.228684Z",
     "iopub.status.idle": "2024-11-29T05:48:11.234882Z",
     "shell.execute_reply": "2024-11-29T05:48:11.233928Z",
     "shell.execute_reply.started": "2024-11-29T05:48:11.229138Z"
    }
   },
   "outputs": [
    {
     "data": {
      "text/plain": [
       "Counter({'eyes': 9,\n",
       "         'the': 5,\n",
       "         'look': 4,\n",
       "         'my': 4,\n",
       "         'into': 3,\n",
       "         'not': 2,\n",
       "         'around': 2,\n",
       "         \"don't\": 1,\n",
       "         \"you're\": 1,\n",
       "         'under': 1,\n",
       "         'why': 1,\n",
       "         'are': 1,\n",
       "         'you': 1,\n",
       "         'looking': 1,\n",
       "         'in': 1})"
      ]
     },
     "execution_count": 8,
     "metadata": {},
     "output_type": "execute_result"
    }
   ],
   "source": [
    "# Combine counts\n",
    "c = a + b\n",
    "c"
   ]
  },
  {
   "cell_type": "code",
   "execution_count": 10,
   "metadata": {
    "execution": {
     "iopub.execute_input": "2024-11-29T05:48:24.515059Z",
     "iopub.status.busy": "2024-11-29T05:48:24.514569Z",
     "iopub.status.idle": "2024-11-29T05:48:24.520557Z",
     "shell.execute_reply": "2024-11-29T05:48:24.519753Z",
     "shell.execute_reply.started": "2024-11-29T05:48:24.515024Z"
    }
   },
   "outputs": [
    {
     "data": {
      "text/plain": [
       "Counter({'eyes': 7,\n",
       "         'the': 5,\n",
       "         'look': 4,\n",
       "         'into': 3,\n",
       "         'my': 2,\n",
       "         'around': 2,\n",
       "         \"don't\": 1,\n",
       "         \"you're\": 1,\n",
       "         'under': 1})"
      ]
     },
     "execution_count": 10,
     "metadata": {},
     "output_type": "execute_result"
    }
   ],
   "source": [
    "# Subtract counts\n",
    "d = a - b\n",
    "d"
   ]
  },
  {
   "cell_type": "markdown",
   "metadata": {},
   "source": [
    "毫无疑问， Counter 对象在几乎所有需要制表或者计数数据的场合是非常有用的工具。\n",
    "在解决这类问题的时候你应该优先选择它，而不是手动的利用字典去实现。"
   ]
  }
 ],
 "metadata": {
  "kernelspec": {
   "display_name": "Python 3 (ipykernel)",
   "language": "python",
   "name": "python3"
  },
  "language_info": {
   "codemirror_mode": {
    "name": "ipython",
    "version": 3
   },
   "file_extension": ".py",
   "mimetype": "text/x-python",
   "name": "python",
   "nbconvert_exporter": "python",
   "pygments_lexer": "ipython3",
   "version": "3.10.15"
  },
  "toc": {
   "base_numbering": 1,
   "nav_menu": {},
   "number_sections": true,
   "sideBar": true,
   "skip_h1_title": true,
   "title_cell": "Table of Contents",
   "title_sidebar": "Contents",
   "toc_cell": false,
   "toc_position": {},
   "toc_section_display": true,
   "toc_window_display": true
  },
  "widgets": {
   "application/vnd.jupyter.widget-state+json": {
    "state": {},
    "version_major": 2,
    "version_minor": 0
   }
  }
 },
 "nbformat": 4,
 "nbformat_minor": 4
}
