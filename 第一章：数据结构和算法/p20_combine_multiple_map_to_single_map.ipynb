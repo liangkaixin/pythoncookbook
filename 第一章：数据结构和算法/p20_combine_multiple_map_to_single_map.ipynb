{
 "cells": [
  {
   "cell_type": "markdown",
   "metadata": {},
   "source": [
    "## 1.20 合并多个字典或映射\n"
   ]
  },
  {
   "cell_type": "markdown",
   "metadata": {},
   "source": [
    "### 问题\n"
   ]
  },
  {
   "cell_type": "markdown",
   "metadata": {},
   "source": [
    "现在有多个字典或者映射，你想将它们从逻辑上合并为一个单一的映射后执行某些操作，\n",
    "比如查找值或者检查某些键是否存在。"
   ]
  },
  {
   "cell_type": "markdown",
   "metadata": {},
   "source": [
    "### 解决方案\n"
   ]
  },
  {
   "cell_type": "markdown",
   "metadata": {},
   "source": [
    "假如你有如下两个字典:"
   ]
  },
  {
   "cell_type": "code",
   "execution_count": 1,
   "metadata": {
    "execution": {
     "iopub.execute_input": "2024-11-29T06:32:29.479296Z",
     "iopub.status.busy": "2024-11-29T06:32:29.478656Z",
     "iopub.status.idle": "2024-11-29T06:32:29.487312Z",
     "shell.execute_reply": "2024-11-29T06:32:29.486396Z",
     "shell.execute_reply.started": "2024-11-29T06:32:29.479259Z"
    }
   },
   "outputs": [],
   "source": [
    "a = {'x': 1, 'z': 3 }\n",
    "b = {'y': 2, 'z': 4 }"
   ]
  },
  {
   "cell_type": "markdown",
   "metadata": {},
   "source": [
    "现在假设你必须在两个字典中执行查找操作（比如先从 a 中找，如果找不到再在 b 中找）。\n",
    "一个非常简单的解决方案就是使用 collections 模块中的 ChainMap 类。比如："
   ]
  },
  {
   "cell_type": "code",
   "execution_count": 2,
   "metadata": {
    "execution": {
     "iopub.execute_input": "2024-11-29T06:32:31.076879Z",
     "iopub.status.busy": "2024-11-29T06:32:31.076369Z",
     "iopub.status.idle": "2024-11-29T06:32:31.081673Z",
     "shell.execute_reply": "2024-11-29T06:32:31.080862Z",
     "shell.execute_reply.started": "2024-11-29T06:32:31.076836Z"
    }
   },
   "outputs": [
    {
     "name": "stdout",
     "output_type": "stream",
     "text": [
      "1\n",
      "2\n",
      "3\n"
     ]
    }
   ],
   "source": [
    "from collections import ChainMap\n",
    "c = ChainMap(a,b)\n",
    "print(c['x']) # Outputs 1 (from a)\n",
    "print(c['y']) # Outputs 2 (from b)\n",
    "print(c['z']) # Outputs 3 (from a)"
   ]
  },
  {
   "cell_type": "markdown",
   "metadata": {},
   "source": [
    "### 讨论\n"
   ]
  },
  {
   "cell_type": "markdown",
   "metadata": {},
   "source": [
    "一个 ChainMap 接受多个字典并将它们在逻辑上变为一个字典。\n",
    "然后，这些字典并不是真的合并在一起了， ChainMap 类只是在内部创建了一个容纳这些字典的列表\n",
    "并重新定义了一些常见的字典操作来遍历这个列表。大部分字典操作都是可以正常使用的，比如："
   ]
  },
  {
   "cell_type": "code",
   "execution_count": 3,
   "metadata": {
    "execution": {
     "iopub.execute_input": "2024-11-29T06:32:34.375253Z",
     "iopub.status.busy": "2024-11-29T06:32:34.374742Z",
     "iopub.status.idle": "2024-11-29T06:32:34.383237Z",
     "shell.execute_reply": "2024-11-29T06:32:34.382371Z",
     "shell.execute_reply.started": "2024-11-29T06:32:34.375215Z"
    }
   },
   "outputs": [
    {
     "data": {
      "text/plain": [
       "3"
      ]
     },
     "execution_count": 3,
     "metadata": {},
     "output_type": "execute_result"
    }
   ],
   "source": [
    "len(c)"
   ]
  },
  {
   "cell_type": "code",
   "execution_count": 4,
   "metadata": {
    "execution": {
     "iopub.execute_input": "2024-11-29T06:32:36.790106Z",
     "iopub.status.busy": "2024-11-29T06:32:36.789632Z",
     "iopub.status.idle": "2024-11-29T06:32:36.796087Z",
     "shell.execute_reply": "2024-11-29T06:32:36.795112Z",
     "shell.execute_reply.started": "2024-11-29T06:32:36.790071Z"
    }
   },
   "outputs": [
    {
     "data": {
      "text/plain": [
       "['y', 'z', 'x']"
      ]
     },
     "execution_count": 4,
     "metadata": {},
     "output_type": "execute_result"
    }
   ],
   "source": [
    "list(c.keys())"
   ]
  },
  {
   "cell_type": "code",
   "execution_count": 5,
   "metadata": {
    "execution": {
     "iopub.execute_input": "2024-11-29T06:32:38.023798Z",
     "iopub.status.busy": "2024-11-29T06:32:38.023344Z",
     "iopub.status.idle": "2024-11-29T06:32:38.028348Z",
     "shell.execute_reply": "2024-11-29T06:32:38.027723Z",
     "shell.execute_reply.started": "2024-11-29T06:32:38.023768Z"
    }
   },
   "outputs": [
    {
     "data": {
      "text/plain": [
       "[2, 3, 1]"
      ]
     },
     "execution_count": 5,
     "metadata": {},
     "output_type": "execute_result"
    }
   ],
   "source": [
    "list(c.values())"
   ]
  },
  {
   "cell_type": "markdown",
   "metadata": {},
   "source": [
    "如果出现重复键，那么第一次出现的映射值会被返回。\n",
    "因此，例子程序中的 c['z'] 总是会返回字典 a 中对应的值，而不是 b 中对应的值。"
   ]
  },
  {
   "cell_type": "markdown",
   "metadata": {},
   "source": [
    "对于字典的更新或删除操作总是影响的是列表中第一个字典。比如："
   ]
  },
  {
   "cell_type": "code",
   "execution_count": 6,
   "metadata": {
    "execution": {
     "iopub.execute_input": "2024-11-29T06:32:40.019842Z",
     "iopub.status.busy": "2024-11-29T06:32:40.019385Z",
     "iopub.status.idle": "2024-11-29T06:32:40.025048Z",
     "shell.execute_reply": "2024-11-29T06:32:40.024337Z",
     "shell.execute_reply.started": "2024-11-29T06:32:40.019812Z"
    }
   },
   "outputs": [
    {
     "data": {
      "text/plain": [
       "{'z': 10, 'w': 40}"
      ]
     },
     "execution_count": 6,
     "metadata": {},
     "output_type": "execute_result"
    }
   ],
   "source": [
    "c['z'] = 10\n",
    "c['w'] = 40\n",
    "del c['x']\n",
    "a"
   ]
  },
  {
   "cell_type": "code",
   "execution_count": 7,
   "metadata": {
    "execution": {
     "iopub.execute_input": "2024-11-29T06:32:41.556802Z",
     "iopub.status.busy": "2024-11-29T06:32:41.556307Z",
     "iopub.status.idle": "2024-11-29T06:32:41.703669Z",
     "shell.execute_reply": "2024-11-29T06:32:41.703257Z",
     "shell.execute_reply.started": "2024-11-29T06:32:41.556767Z"
    }
   },
   "outputs": [
    {
     "ename": "KeyError",
     "evalue": "\"Key not found in the first mapping: 'y'\"",
     "output_type": "error",
     "traceback": [
      "\u001b[0;31m---------------------------------------------------------------------------\u001b[0m",
      "\u001b[0;31mKeyError\u001b[0m                                  Traceback (most recent call last)",
      "File \u001b[0;32m/opt/homebrew/Caskroom/miniconda/base/envs/jupyter/lib/python3.10/collections/__init__.py:1042\u001b[0m, in \u001b[0;36mChainMap.__delitem__\u001b[0;34m(self, key)\u001b[0m\n\u001b[1;32m   1041\u001b[0m \u001b[38;5;28;01mtry\u001b[39;00m:\n\u001b[0;32m-> 1042\u001b[0m     \u001b[38;5;28;01mdel\u001b[39;00m \u001b[38;5;28mself\u001b[39m\u001b[38;5;241m.\u001b[39mmaps[\u001b[38;5;241m0\u001b[39m][key]\n\u001b[1;32m   1043\u001b[0m \u001b[38;5;28;01mexcept\u001b[39;00m \u001b[38;5;167;01mKeyError\u001b[39;00m:\n",
      "\u001b[0;31mKeyError\u001b[0m: 'y'",
      "\nDuring handling of the above exception, another exception occurred:\n",
      "\u001b[0;31mKeyError\u001b[0m                                  Traceback (most recent call last)",
      "Cell \u001b[0;32mIn[7], line 1\u001b[0m\n\u001b[0;32m----> 1\u001b[0m \u001b[38;5;28;01mdel\u001b[39;00m c[\u001b[38;5;124m'\u001b[39m\u001b[38;5;124my\u001b[39m\u001b[38;5;124m'\u001b[39m]\n",
      "File \u001b[0;32m/opt/homebrew/Caskroom/miniconda/base/envs/jupyter/lib/python3.10/collections/__init__.py:1044\u001b[0m, in \u001b[0;36mChainMap.__delitem__\u001b[0;34m(self, key)\u001b[0m\n\u001b[1;32m   1042\u001b[0m     \u001b[38;5;28;01mdel\u001b[39;00m \u001b[38;5;28mself\u001b[39m\u001b[38;5;241m.\u001b[39mmaps[\u001b[38;5;241m0\u001b[39m][key]\n\u001b[1;32m   1043\u001b[0m \u001b[38;5;28;01mexcept\u001b[39;00m \u001b[38;5;167;01mKeyError\u001b[39;00m:\n\u001b[0;32m-> 1044\u001b[0m     \u001b[38;5;28;01mraise\u001b[39;00m \u001b[38;5;167;01mKeyError\u001b[39;00m(\u001b[38;5;124mf\u001b[39m\u001b[38;5;124m'\u001b[39m\u001b[38;5;124mKey not found in the first mapping: \u001b[39m\u001b[38;5;132;01m{\u001b[39;00mkey\u001b[38;5;132;01m!r}\u001b[39;00m\u001b[38;5;124m'\u001b[39m)\n",
      "\u001b[0;31mKeyError\u001b[0m: \"Key not found in the first mapping: 'y'\""
     ]
    }
   ],
   "source": [
    "del c['y']"
   ]
  },
  {
   "cell_type": "markdown",
   "metadata": {},
   "source": [
    "ChainMap 对于编程语言中的作用范围变量（比如 globals , locals 等）是非常有用的。\n",
    "事实上，有一些方法可以使它变得简单："
   ]
  },
  {
   "cell_type": "code",
   "execution_count": 10,
   "metadata": {
    "execution": {
     "iopub.execute_input": "2024-11-29T06:32:59.090978Z",
     "iopub.status.busy": "2024-11-29T06:32:59.090534Z",
     "iopub.status.idle": "2024-11-29T06:32:59.097701Z",
     "shell.execute_reply": "2024-11-29T06:32:59.096728Z",
     "shell.execute_reply.started": "2024-11-29T06:32:59.090947Z"
    }
   },
   "outputs": [
    {
     "data": {
      "text/plain": [
       "ChainMap({'x': 3}, {'x': 2}, {'x': 1})"
      ]
     },
     "execution_count": 10,
     "metadata": {},
     "output_type": "execute_result"
    }
   ],
   "source": [
    "values = ChainMap()\n",
    "values['x'] = 1\n",
    "# Add a new mapping\n",
    "values = values.new_child()\n",
    "values['x'] = 2\n",
    "# Add a new mapping\n",
    "values = values.new_child()\n",
    "values['x'] = 3\n",
    "values"
   ]
  },
  {
   "cell_type": "code",
   "execution_count": 13,
   "metadata": {
    "execution": {
     "iopub.execute_input": "2024-11-29T06:33:34.258836Z",
     "iopub.status.busy": "2024-11-29T06:33:34.258408Z",
     "iopub.status.idle": "2024-11-29T06:33:34.263101Z",
     "shell.execute_reply": "2024-11-29T06:33:34.262519Z",
     "shell.execute_reply.started": "2024-11-29T06:33:34.258815Z"
    }
   },
   "outputs": [
    {
     "data": {
      "text/plain": [
       "\u001b[0;31mType:\u001b[0m           ChainMap\n",
       "\u001b[0;31mString form:\u001b[0m    ChainMap({'x': 3}, {'x': 2}, {'x': 1})\n",
       "\u001b[0;31mLength:\u001b[0m         1\n",
       "\u001b[0;31mFile:\u001b[0m           /opt/homebrew/Caskroom/miniconda/base/envs/jupyter/lib/python3.10/collections/__init__.py\n",
       "\u001b[0;31mDocstring:\u001b[0m     \n",
       "A ChainMap groups multiple dicts (or other mappings) together\n",
       "to create a single, updateable view.\n",
       "\n",
       "The underlying mappings are stored in a list.  That list is public and can\n",
       "be accessed or updated using the *maps* attribute.  There is no other\n",
       "state.\n",
       "\n",
       "Lookups search the underlying mappings successively until a key is found.\n",
       "In contrast, writes, updates, and deletions only operate on the first\n",
       "mapping.\n",
       "\u001b[0;31mInit docstring:\u001b[0m\n",
       "Initialize a ChainMap by setting *maps* to the given mappings.\n",
       "If no mappings are provided, a single empty dictionary is used."
      ]
     },
     "metadata": {},
     "output_type": "display_data"
    }
   ],
   "source": [
    "values?"
   ]
  },
  {
   "cell_type": "code",
   "execution_count": 14,
   "metadata": {
    "execution": {
     "iopub.execute_input": "2024-11-29T06:33:42.573120Z",
     "iopub.status.busy": "2024-11-29T06:33:42.572631Z",
     "iopub.status.idle": "2024-11-29T06:33:42.578191Z",
     "shell.execute_reply": "2024-11-29T06:33:42.577523Z",
     "shell.execute_reply.started": "2024-11-29T06:33:42.573087Z"
    }
   },
   "outputs": [
    {
     "data": {
      "text/plain": [
       "2"
      ]
     },
     "execution_count": 14,
     "metadata": {},
     "output_type": "execute_result"
    }
   ],
   "source": [
    "# Discard last mapping\n",
    "values = values.parents\n",
    "values['x']"
   ]
  },
  {
   "cell_type": "code",
   "execution_count": 15,
   "metadata": {
    "execution": {
     "iopub.execute_input": "2024-11-29T06:33:44.478334Z",
     "iopub.status.busy": "2024-11-29T06:33:44.477864Z",
     "iopub.status.idle": "2024-11-29T06:33:44.483474Z",
     "shell.execute_reply": "2024-11-29T06:33:44.482803Z",
     "shell.execute_reply.started": "2024-11-29T06:33:44.478301Z"
    }
   },
   "outputs": [
    {
     "data": {
      "text/plain": [
       "1"
      ]
     },
     "execution_count": 15,
     "metadata": {},
     "output_type": "execute_result"
    }
   ],
   "source": [
    "# Discard last mapping\n",
    "values = values.parents\n",
    "values['x']"
   ]
  },
  {
   "cell_type": "code",
   "execution_count": null,
   "metadata": {},
   "outputs": [],
   "source": [
    "values"
   ]
  },
  {
   "cell_type": "markdown",
   "metadata": {},
   "source": [
    "作为 ChainMap 的替代，你可能会考虑使用 update() 方法将两个字典合并。比如："
   ]
  },
  {
   "cell_type": "code",
   "execution_count": null,
   "metadata": {},
   "outputs": [],
   "source": [
    "a = {'x': 1, 'z': 3 }\n",
    "b = {'y': 2, 'z': 4 }\n",
    "merged = dict(b)\n",
    "merged.update(a)\n",
    "merged['x']"
   ]
  },
  {
   "cell_type": "code",
   "execution_count": null,
   "metadata": {},
   "outputs": [],
   "source": [
    "merged['y']"
   ]
  },
  {
   "cell_type": "code",
   "execution_count": null,
   "metadata": {},
   "outputs": [],
   "source": [
    "merged['z']"
   ]
  },
  {
   "cell_type": "markdown",
   "metadata": {},
   "source": [
    "这样也能行得通，但是它需要你创建一个完全不同的字典对象（或者是破坏现有字典结构）。\n",
    "同时，如果原字典做了更新，这种改变不会反应到新的合并字典中去。比如："
   ]
  },
  {
   "cell_type": "code",
   "execution_count": null,
   "metadata": {},
   "outputs": [],
   "source": [
    "a['x'] = 13\n",
    "merged['x']"
   ]
  },
  {
   "cell_type": "markdown",
   "metadata": {},
   "source": [
    "ChainMap 使用原来的字典，它自己不创建新的字典。所以它并不会产生上面所说的结果，比如："
   ]
  },
  {
   "cell_type": "code",
   "execution_count": null,
   "metadata": {},
   "outputs": [],
   "source": [
    "a = {'x': 1, 'z': 3 }\n",
    "b = {'y': 2, 'z': 4 }\n",
    "merged = ChainMap(a, b)\n",
    "merged['x']"
   ]
  },
  {
   "cell_type": "code",
   "execution_count": null,
   "metadata": {},
   "outputs": [],
   "source": [
    "a['x'] = 42\n",
    "merged['x'] # Notice change to merged dicts"
   ]
  }
 ],
 "metadata": {
  "kernelspec": {
   "display_name": "Python 3 (ipykernel)",
   "language": "python",
   "name": "python3"
  },
  "language_info": {
   "codemirror_mode": {
    "name": "ipython",
    "version": 3
   },
   "file_extension": ".py",
   "mimetype": "text/x-python",
   "name": "python",
   "nbconvert_exporter": "python",
   "pygments_lexer": "ipython3",
   "version": "3.10.15"
  },
  "toc": {
   "base_numbering": 1,
   "nav_menu": {},
   "number_sections": true,
   "sideBar": true,
   "skip_h1_title": true,
   "title_cell": "Table of Contents",
   "title_sidebar": "Contents",
   "toc_cell": false,
   "toc_position": {},
   "toc_section_display": true,
   "toc_window_display": true
  },
  "widgets": {
   "application/vnd.jupyter.widget-state+json": {
    "state": {},
    "version_major": 2,
    "version_minor": 0
   }
  }
 },
 "nbformat": 4,
 "nbformat_minor": 4
}
