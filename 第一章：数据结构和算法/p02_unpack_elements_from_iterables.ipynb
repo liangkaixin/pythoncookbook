{
 "cells": [
  {
   "cell_type": "markdown",
   "metadata": {},
   "source": [
    "## 1.2 解压可迭代对象赋值给多个变量\n"
   ]
  },
  {
   "cell_type": "markdown",
   "metadata": {},
   "source": [
    "### 问题\n"
   ]
  },
  {
   "cell_type": "markdown",
   "metadata": {},
   "source": [
    "如果一个可迭代对象的元素个数超过变量个数时，会抛出一个 ValueError 。\n",
    "那么怎样才能从这个可迭代对象中解压出 N 个元素出来？"
   ]
  },
  {
   "cell_type": "markdown",
   "metadata": {},
   "source": [
    "### 解决方案\n"
   ]
  },
  {
   "cell_type": "markdown",
   "metadata": {},
   "source": [
    "Python 的星号表达式可以用来解决这个问题。比如，你在学习一门课程，在学期末的时候，\n",
    "你想统计下家庭作业的平均成绩，但是排除掉第一个和最后一个分数。如果只有四个分数，你可能就直接去简单的手动赋值，\n",
    "但如果有 24 个呢？这时候星号表达式就派上用场了："
   ]
  },
  {
   "cell_type": "code",
   "execution_count": 1,
   "metadata": {
    "execution": {
     "iopub.execute_input": "2024-11-27T06:55:28.122596Z",
     "iopub.status.busy": "2024-11-27T06:55:28.122083Z",
     "iopub.status.idle": "2024-11-27T06:55:28.132508Z",
     "shell.execute_reply": "2024-11-27T06:55:28.131256Z",
     "shell.execute_reply.started": "2024-11-27T06:55:28.122557Z"
    }
   },
   "outputs": [],
   "source": [
    "def drop_first_last(grades):\n",
    "    first, *middle, last = grades\n",
    "    return avg(middle)"
   ]
  },
  {
   "cell_type": "code",
   "execution_count": 11,
   "metadata": {
    "execution": {
     "iopub.execute_input": "2024-11-27T06:57:32.451357Z",
     "iopub.status.busy": "2024-11-27T06:57:32.450879Z",
     "iopub.status.idle": "2024-11-27T06:57:32.457273Z",
     "shell.execute_reply": "2024-11-27T06:57:32.456429Z",
     "shell.execute_reply.started": "2024-11-27T06:57:32.451326Z"
    }
   },
   "outputs": [
    {
     "data": {
      "text/plain": [
       "[2, 4, 5]"
      ]
     },
     "execution_count": 11,
     "metadata": {},
     "output_type": "execute_result"
    }
   ],
   "source": [
    "_,*middle = (1,2,4,5)\n",
    "middle"
   ]
  },
  {
   "cell_type": "markdown",
   "metadata": {},
   "source": [
    "另外一种情况，假设你现在有一些用户的记录列表，每条记录包含一个名字、邮件，接着就是不确定数量的电话号码。\n",
    "你可以像下面这样分解这些记录："
   ]
  },
  {
   "cell_type": "code",
   "execution_count": 12,
   "metadata": {
    "execution": {
     "iopub.execute_input": "2024-11-27T06:57:45.648526Z",
     "iopub.status.busy": "2024-11-27T06:57:45.648047Z",
     "iopub.status.idle": "2024-11-27T06:57:45.653497Z",
     "shell.execute_reply": "2024-11-27T06:57:45.652672Z",
     "shell.execute_reply.started": "2024-11-27T06:57:45.648493Z"
    }
   },
   "outputs": [
    {
     "data": {
      "text/plain": [
       "'Dave'"
      ]
     },
     "execution_count": 12,
     "metadata": {},
     "output_type": "execute_result"
    }
   ],
   "source": [
    "record = ('Dave', 'dave@example.com', '773-555-1212', '847-555-1212')\n",
    "name, email, *phone_numbers = record\n",
    "name"
   ]
  },
  {
   "cell_type": "code",
   "execution_count": 13,
   "metadata": {
    "execution": {
     "iopub.execute_input": "2024-11-27T06:57:48.022176Z",
     "iopub.status.busy": "2024-11-27T06:57:48.021689Z",
     "iopub.status.idle": "2024-11-27T06:57:48.027230Z",
     "shell.execute_reply": "2024-11-27T06:57:48.026279Z",
     "shell.execute_reply.started": "2024-11-27T06:57:48.022143Z"
    }
   },
   "outputs": [
    {
     "data": {
      "text/plain": [
       "'dave@example.com'"
      ]
     },
     "execution_count": 13,
     "metadata": {},
     "output_type": "execute_result"
    }
   ],
   "source": [
    "email"
   ]
  },
  {
   "cell_type": "code",
   "execution_count": 14,
   "metadata": {
    "execution": {
     "iopub.execute_input": "2024-11-27T06:57:49.261406Z",
     "iopub.status.busy": "2024-11-27T06:57:49.260942Z",
     "iopub.status.idle": "2024-11-27T06:57:49.266796Z",
     "shell.execute_reply": "2024-11-27T06:57:49.265990Z",
     "shell.execute_reply.started": "2024-11-27T06:57:49.261373Z"
    }
   },
   "outputs": [
    {
     "data": {
      "text/plain": [
       "['773-555-1212', '847-555-1212']"
      ]
     },
     "execution_count": 14,
     "metadata": {},
     "output_type": "execute_result"
    }
   ],
   "source": [
    "phone_numbers"
   ]
  },
  {
   "cell_type": "markdown",
   "metadata": {},
   "source": [
    "值得注意的是上面解压出的 phone_numbers 变量永远都是**列表**类型，不管解压的电话号码数量是多少（包括 0 个）。\n",
    "所以，任何使用到 phone_numbers 变量的代码就不需要做多余的类型检查去确认它是否是列表类型了。"
   ]
  },
  {
   "cell_type": "markdown",
   "metadata": {},
   "source": [
    "星号表达式也能用在列表的开始部分。比如，你有一个公司前 8 个月销售数据的序列，\n",
    "但是你想看下最近一个月数据和前面 7 个月的平均值的对比。你可以这样做："
   ]
  },
  {
   "cell_type": "code",
   "execution_count": 15,
   "metadata": {
    "collapsed": true,
    "execution": {
     "iopub.execute_input": "2024-11-27T07:54:50.407166Z",
     "iopub.status.busy": "2024-11-27T07:54:50.405940Z",
     "iopub.status.idle": "2024-11-27T07:54:50.434622Z",
     "shell.execute_reply": "2024-11-27T07:54:50.433833Z",
     "shell.execute_reply.started": "2024-11-27T07:54:50.407092Z"
    },
    "jupyter": {
     "outputs_hidden": true
    },
    "scrolled": true
   },
   "outputs": [
    {
     "ename": "NameError",
     "evalue": "name 'sales_record' is not defined",
     "output_type": "error",
     "traceback": [
      "\u001b[0;31m---------------------------------------------------------------------------\u001b[0m",
      "\u001b[0;31mNameError\u001b[0m                                 Traceback (most recent call last)",
      "Cell \u001b[0;32mIn[15], line 1\u001b[0m\n\u001b[0;32m----> 1\u001b[0m \u001b[38;5;241m*\u001b[39mtrailing_qtrs, current_qtr \u001b[38;5;241m=\u001b[39m \u001b[43msales_record\u001b[49m\n\u001b[1;32m      2\u001b[0m trailing_avg \u001b[38;5;241m=\u001b[39m \u001b[38;5;28msum\u001b[39m(trailing_qtrs) \u001b[38;5;241m/\u001b[39m \u001b[38;5;28mlen\u001b[39m(trailing_qtrs)\n\u001b[1;32m      3\u001b[0m \u001b[38;5;28;01mreturn\u001b[39;00m avg_comparison(trailing_avg, current_qtr)\n",
      "\u001b[0;31mNameError\u001b[0m: name 'sales_record' is not defined"
     ]
    }
   ],
   "source": [
    "*trailing_qtrs, current_qtr = sales_record\n",
    "trailing_avg = sum(trailing_qtrs) / len(trailing_qtrs)\n",
    "return avg_comparison(trailing_avg, current_qtr)"
   ]
  },
  {
   "cell_type": "markdown",
   "metadata": {},
   "source": [
    "下面是在 Python 解释器中执行的结果："
   ]
  },
  {
   "cell_type": "code",
   "execution_count": null,
   "metadata": {},
   "outputs": [],
   "source": [
    "*trailing, current = [10, 8, 7, 1, 9, 5, 10, 3]\n",
    "trailing"
   ]
  },
  {
   "cell_type": "code",
   "execution_count": null,
   "metadata": {},
   "outputs": [],
   "source": [
    "current"
   ]
  },
  {
   "cell_type": "markdown",
   "metadata": {},
   "source": [
    "### 讨论\n"
   ]
  },
  {
   "cell_type": "markdown",
   "metadata": {},
   "source": [
    "扩展的迭代解压语法是专门为解压不确定个数或任意个数元素的可迭代对象而设计的。\n",
    "通常，这些可迭代对象的元素结构有确定的规则（比如第 1 个元素后面都是电话号码），\n",
    "星号表达式让开发人员可以很容易的利用这些规则来解压出元素来。\n",
    "而不是通过一些比较复杂的手段去获取这些关联的元素值。"
   ]
  },
  {
   "cell_type": "markdown",
   "metadata": {},
   "source": [
    "值得注意的是，星号表达式在迭代元素为可变长元组的序列时是很有用的。\n",
    "比如，下面是一个带有标签的元组序列："
   ]
  },
  {
   "cell_type": "code",
   "execution_count": null,
   "metadata": {},
   "outputs": [],
   "source": [
    "records = [\n",
    "    ('foo', 1, 2),\n",
    "    ('bar', 'hello'),\n",
    "    ('foo', 3, 4),\n",
    "]\n",
    "\n",
    "def do_foo(x, y):\n",
    "    print('foo', x, y)\n",
    "\n",
    "def do_bar(s):\n",
    "    print('bar', s)\n",
    "\n",
    "for tag, *args in records:\n",
    "    if tag == 'foo':\n",
    "        do_foo(*args)\n",
    "    elif tag == 'bar':\n",
    "        do_bar(*args)"
   ]
  },
  {
   "cell_type": "markdown",
   "metadata": {},
   "source": [
    "星号解压语法在字符串操作的时候也会很有用，比如字符串的分割。"
   ]
  },
  {
   "cell_type": "markdown",
   "metadata": {},
   "source": [
    "代码示例："
   ]
  },
  {
   "cell_type": "code",
   "execution_count": null,
   "metadata": {},
   "outputs": [],
   "source": [
    "line = 'nobody:*:-2:-2:Unprivileged User:/var/empty:/usr/bin/false'\n",
    "uname, *fields, homedir, sh = line.split(':')\n",
    "uname"
   ]
  },
  {
   "cell_type": "code",
   "execution_count": null,
   "metadata": {},
   "outputs": [],
   "source": [
    "homedir"
   ]
  },
  {
   "cell_type": "code",
   "execution_count": null,
   "metadata": {},
   "outputs": [],
   "source": [
    "sh"
   ]
  },
  {
   "cell_type": "markdown",
   "metadata": {},
   "source": [
    "有时候，你想解压一些元素后丢弃它们，你不能简单就使用 * ，\n",
    "但是你可以使用一个普通的废弃名称，比如 _ 或者 ign （ignore）。"
   ]
  },
  {
   "cell_type": "markdown",
   "metadata": {},
   "source": [
    "代码示例："
   ]
  },
  {
   "cell_type": "code",
   "execution_count": 16,
   "metadata": {
    "execution": {
     "iopub.execute_input": "2024-11-27T07:56:05.183448Z",
     "iopub.status.busy": "2024-11-27T07:56:05.182963Z",
     "iopub.status.idle": "2024-11-27T07:56:05.189279Z",
     "shell.execute_reply": "2024-11-27T07:56:05.188771Z",
     "shell.execute_reply.started": "2024-11-27T07:56:05.183422Z"
    }
   },
   "outputs": [
    {
     "data": {
      "text/plain": [
       "'ACME'"
      ]
     },
     "execution_count": 16,
     "metadata": {},
     "output_type": "execute_result"
    }
   ],
   "source": [
    "record = ('ACME', 50, 123.45, (12, 18, 2012))\n",
    "name, *_, (*_, year) = record\n",
    "name"
   ]
  },
  {
   "cell_type": "code",
   "execution_count": 17,
   "metadata": {
    "execution": {
     "iopub.execute_input": "2024-11-27T07:56:32.877194Z",
     "iopub.status.busy": "2024-11-27T07:56:32.876657Z",
     "iopub.status.idle": "2024-11-27T07:56:32.882158Z",
     "shell.execute_reply": "2024-11-27T07:56:32.881373Z",
     "shell.execute_reply.started": "2024-11-27T07:56:32.877156Z"
    }
   },
   "outputs": [
    {
     "data": {
      "text/plain": [
       "2012"
      ]
     },
     "execution_count": 17,
     "metadata": {},
     "output_type": "execute_result"
    }
   ],
   "source": [
    "year"
   ]
  },
  {
   "cell_type": "markdown",
   "metadata": {},
   "source": [
    "在很多函数式语言中，星号解压语法跟列表处理有许多相似之处。比如，如果你有一个列表，\n",
    "你可以很容易的将它分割成前后两部分："
   ]
  },
  {
   "cell_type": "code",
   "execution_count": 18,
   "metadata": {
    "execution": {
     "iopub.execute_input": "2024-11-27T07:57:34.482726Z",
     "iopub.status.busy": "2024-11-27T07:57:34.482235Z",
     "iopub.status.idle": "2024-11-27T07:57:34.487365Z",
     "shell.execute_reply": "2024-11-27T07:57:34.486782Z",
     "shell.execute_reply.started": "2024-11-27T07:57:34.482689Z"
    }
   },
   "outputs": [
    {
     "data": {
      "text/plain": [
       "1"
      ]
     },
     "execution_count": 18,
     "metadata": {},
     "output_type": "execute_result"
    }
   ],
   "source": [
    "items = [1, 10, 7, 4, 5, 9]\n",
    "head, *tail = items\n",
    "head"
   ]
  },
  {
   "cell_type": "code",
   "execution_count": null,
   "metadata": {},
   "outputs": [],
   "source": [
    "tail"
   ]
  },
  {
   "cell_type": "markdown",
   "metadata": {},
   "source": [
    "如果你够聪明的话，还能用这种分割语法去巧妙的实现递归算法。比如："
   ]
  },
  {
   "cell_type": "code",
   "execution_count": 19,
   "metadata": {
    "execution": {
     "iopub.execute_input": "2024-11-27T07:57:36.933852Z",
     "iopub.status.busy": "2024-11-27T07:57:36.933398Z",
     "iopub.status.idle": "2024-11-27T07:57:36.938473Z",
     "shell.execute_reply": "2024-11-27T07:57:36.937903Z",
     "shell.execute_reply.started": "2024-11-27T07:57:36.933821Z"
    }
   },
   "outputs": [
    {
     "data": {
      "text/plain": [
       "36"
      ]
     },
     "execution_count": 19,
     "metadata": {},
     "output_type": "execute_result"
    }
   ],
   "source": [
    "def sum(items):\n",
    "    head, *tail = items\n",
    "    return head + sum(tail) if tail else head\n",
    "sum(items)"
   ]
  },
  {
   "cell_type": "markdown",
   "metadata": {},
   "source": [
    "然后，由于语言层面的限制，递归并不是 Python 擅长的。\n",
    "因此，最后那个递归演示仅仅是个好奇的探索罢了，对这个不要太认真了。"
   ]
  }
 ],
 "metadata": {
  "kernelspec": {
   "display_name": "Python 3 (ipykernel)",
   "language": "python",
   "name": "python3"
  },
  "language_info": {
   "codemirror_mode": {
    "name": "ipython",
    "version": 3
   },
   "file_extension": ".py",
   "mimetype": "text/x-python",
   "name": "python",
   "nbconvert_exporter": "python",
   "pygments_lexer": "ipython3",
   "version": "3.10.15"
  },
  "toc": {
   "base_numbering": 1,
   "nav_menu": {},
   "number_sections": true,
   "sideBar": true,
   "skip_h1_title": true,
   "title_cell": "Table of Contents",
   "title_sidebar": "Contents",
   "toc_cell": false,
   "toc_position": {},
   "toc_section_display": true,
   "toc_window_display": true
  },
  "widgets": {
   "application/vnd.jupyter.widget-state+json": {
    "state": {},
    "version_major": 2,
    "version_minor": 0
   }
  }
 },
 "nbformat": 4,
 "nbformat_minor": 4
}
