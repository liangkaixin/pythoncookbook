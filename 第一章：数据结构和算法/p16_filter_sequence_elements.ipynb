{
 "cells": [
  {
   "cell_type": "markdown",
   "metadata": {},
   "source": [
    "## 1.16 过滤序列元素\n"
   ]
  },
  {
   "cell_type": "markdown",
   "metadata": {},
   "source": [
    "### 问题\n"
   ]
  },
  {
   "cell_type": "markdown",
   "metadata": {},
   "source": [
    "你有一个数据序列，想利用一些规则从中提取出需要的值或者是缩短序列"
   ]
  },
  {
   "cell_type": "markdown",
   "metadata": {},
   "source": [
    "### 解决方案\n"
   ]
  },
  {
   "cell_type": "markdown",
   "metadata": {},
   "source": [
    "最简单的过滤序列元素的方法就是使用列表推导。比如："
   ]
  },
  {
   "cell_type": "code",
   "execution_count": null,
   "metadata": {},
   "outputs": [],
   "source": [
    "mylist = [1, 4, -5, 10, -7, 2, 3, -1]\n",
    "[n for n in mylist if n > 0]"
   ]
  },
  {
   "cell_type": "code",
   "execution_count": null,
   "metadata": {},
   "outputs": [],
   "source": [
    "[n for n in mylist if n < 0]"
   ]
  },
  {
   "cell_type": "markdown",
   "metadata": {},
   "source": [
    "使用列表推导的一个潜在缺陷就是如果输入非常大的时候会产生一个非常大的结果集，占用大量内存。\n",
    "如果你对内存比较敏感，那么你可以使用生成器表达式迭代产生过滤的元素。比如："
   ]
  },
  {
   "cell_type": "code",
   "execution_count": null,
   "metadata": {},
   "outputs": [],
   "source": [
    "pos = (n for n in mylist if n > 0)\n",
    "pos"
   ]
  },
  {
   "cell_type": "code",
   "execution_count": null,
   "metadata": {},
   "outputs": [],
   "source": [
    "for x in pos:\n",
    "print(x)"
   ]
  },
  {
   "cell_type": "markdown",
   "metadata": {},
   "source": [
    "有时候，过滤规则比较复杂，不能简单的在列表推导或者生成器表达式中表达出来。\n",
    "比如，假设过滤的时候需要处理一些异常或者其他复杂情况。这时候你可以将过滤代码放到一个函数中，\n",
    "然后使用内建的 filter() 函数。示例如下："
   ]
  },
  {
   "cell_type": "code",
   "execution_count": 10,
   "metadata": {
    "execution": {
     "iopub.execute_input": "2024-11-29T06:28:25.644832Z",
     "iopub.status.busy": "2024-11-29T06:28:25.644367Z",
     "iopub.status.idle": "2024-11-29T06:28:25.649575Z",
     "shell.execute_reply": "2024-11-29T06:28:25.648695Z",
     "shell.execute_reply.started": "2024-11-29T06:28:25.644801Z"
    }
   },
   "outputs": [
    {
     "name": "stdout",
     "output_type": "stream",
     "text": [
      "['1', '2', '-3', '4', '5']\n"
     ]
    }
   ],
   "source": [
    "values = ['1', '2', '-3', '-', '4', 'N/A', '5']\n",
    "def is_int(val):\n",
    "    try:\n",
    "        x = int(val)\n",
    "        return True\n",
    "    except ValueError:\n",
    "        return False\n",
    "ivals = list(filter(is_int, values))\n",
    "print(ivals)\n",
    "# Outputs ['1', '2', '-3', '4', '5']"
   ]
  },
  {
   "cell_type": "markdown",
   "metadata": {},
   "source": [
    "filter() 函数创建了一个迭代器，因此如果你想得到一个列表的话，就得像示例那样使用 list() 去转换。"
   ]
  },
  {
   "cell_type": "markdown",
   "metadata": {},
   "source": [
    "### 讨论\n"
   ]
  },
  {
   "cell_type": "markdown",
   "metadata": {},
   "source": [
    "列表推导和生成器表达式通常情况下是过滤数据最简单的方式。\n",
    "其实它们还能在过滤的时候转换数据。比如："
   ]
  },
  {
   "cell_type": "code",
   "execution_count": null,
   "metadata": {},
   "outputs": [],
   "source": [
    "mylist = [1, 4, -5, 10, -7, 2, 3, -1]\n",
    "import math\n",
    "[math.sqrt(n) for n in mylist if n > 0]"
   ]
  },
  {
   "cell_type": "markdown",
   "metadata": {},
   "source": [
    "过滤操作的一个变种就是将不符合条件的值用新的值代替，而不是丢弃它们。\n",
    "比如，在一列数据中你可能不仅想找到正数，而且还想将不是正数的数替换成指定的数。\n",
    "通过将过滤条件放到条件表达式中去，可以很容易的解决这个问题，就像这样："
   ]
  },
  {
   "cell_type": "code",
   "execution_count": null,
   "metadata": {},
   "outputs": [],
   "source": [
    "clip_neg = [n if n > 0 else 0 for n in mylist]\n",
    "clip_neg"
   ]
  },
  {
   "cell_type": "code",
   "execution_count": null,
   "metadata": {},
   "outputs": [],
   "source": [
    "clip_pos = [n if n < 0 else 0 for n in mylist]\n",
    "clip_pos"
   ]
  },
  {
   "cell_type": "markdown",
   "metadata": {},
   "source": [
    "另外一个值得关注的过滤工具就是 itertools.compress() ，\n",
    "它以一个 iterable 对象和一个相对应的 Boolean 选择器序列作为输入参数。\n",
    "然后输出 iterable 对象中对应选择器为 True 的元素。\n",
    "当你需要用另外一个相关联的序列来过滤某个序列的时候，这个函数是非常有用的。\n",
    "比如，假如现在你有下面两列数据："
   ]
  },
  {
   "cell_type": "code",
   "execution_count": 12,
   "metadata": {
    "execution": {
     "iopub.execute_input": "2024-11-29T06:29:01.746260Z",
     "iopub.status.busy": "2024-11-29T06:29:01.745801Z",
     "iopub.status.idle": "2024-11-29T06:29:01.750300Z",
     "shell.execute_reply": "2024-11-29T06:29:01.749598Z",
     "shell.execute_reply.started": "2024-11-29T06:29:01.746229Z"
    }
   },
   "outputs": [],
   "source": [
    "addresses = [\n",
    "    '5412 N CLARK',\n",
    "    '5148 N CLARK',\n",
    "    '5800 E 58TH',\n",
    "    '2122 N CLARK',\n",
    "    '5645 N RAVENSWOOD',\n",
    "    '1060 W ADDISON',\n",
    "    '4801 N BROADWAY',\n",
    "    '1039 W GRANVILLE',\n",
    "]\n",
    "counts = [ 0, 3, 10, 4, 1, 7, 6, 1]"
   ]
  },
  {
   "cell_type": "markdown",
   "metadata": {},
   "source": [
    "现在你想将那些对应 count 值大于5的地址全部输出，那么你可以这样做："
   ]
  },
  {
   "cell_type": "code",
   "execution_count": 13,
   "metadata": {
    "execution": {
     "iopub.execute_input": "2024-11-29T06:29:03.243320Z",
     "iopub.status.busy": "2024-11-29T06:29:03.242836Z",
     "iopub.status.idle": "2024-11-29T06:29:03.248597Z",
     "shell.execute_reply": "2024-11-29T06:29:03.247858Z",
     "shell.execute_reply.started": "2024-11-29T06:29:03.243286Z"
    }
   },
   "outputs": [
    {
     "data": {
      "text/plain": [
       "[False, False, True, False, False, True, True, False]"
      ]
     },
     "execution_count": 13,
     "metadata": {},
     "output_type": "execute_result"
    }
   ],
   "source": [
    "from itertools import compress\n",
    "more5 = [n > 5 for n in counts]\n",
    "more5"
   ]
  },
  {
   "cell_type": "code",
   "execution_count": 14,
   "metadata": {
    "execution": {
     "iopub.execute_input": "2024-11-29T06:29:04.763880Z",
     "iopub.status.busy": "2024-11-29T06:29:04.763396Z",
     "iopub.status.idle": "2024-11-29T06:29:04.769790Z",
     "shell.execute_reply": "2024-11-29T06:29:04.768517Z",
     "shell.execute_reply.started": "2024-11-29T06:29:04.763846Z"
    }
   },
   "outputs": [
    {
     "data": {
      "text/plain": [
       "['5800 E 58TH', '1060 W ADDISON', '4801 N BROADWAY']"
      ]
     },
     "execution_count": 14,
     "metadata": {},
     "output_type": "execute_result"
    }
   ],
   "source": [
    "list(compress(addresses, more5))"
   ]
  },
  {
   "cell_type": "markdown",
   "metadata": {},
   "source": [
    "这里的关键点在于先创建一个 Boolean 序列，指示哪些元素符合条件。\n",
    "然后 compress() 函数根据这个序列去选择输出对应位置为 True 的元素。"
   ]
  },
  {
   "cell_type": "markdown",
   "metadata": {},
   "source": [
    "和 filter() 函数类似， compress() 也是返回的一个迭代器。因此，如果你需要得到一个列表，\n",
    "那么你需要使用 list() 来将结果转换为列表类型。"
   ]
  }
 ],
 "metadata": {
  "kernelspec": {
   "display_name": "Python 3 (ipykernel)",
   "language": "python",
   "name": "python3"
  },
  "language_info": {
   "codemirror_mode": {
    "name": "ipython",
    "version": 3
   },
   "file_extension": ".py",
   "mimetype": "text/x-python",
   "name": "python",
   "nbconvert_exporter": "python",
   "pygments_lexer": "ipython3",
   "version": "3.10.15"
  },
  "toc": {
   "base_numbering": 1,
   "nav_menu": {},
   "number_sections": true,
   "sideBar": true,
   "skip_h1_title": true,
   "title_cell": "Table of Contents",
   "title_sidebar": "Contents",
   "toc_cell": false,
   "toc_position": {},
   "toc_section_display": true,
   "toc_window_display": true
  },
  "widgets": {
   "application/vnd.jupyter.widget-state+json": {
    "state": {},
    "version_major": 2,
    "version_minor": 0
   }
  }
 },
 "nbformat": 4,
 "nbformat_minor": 4
}
